{
 "cells": [
  {
   "cell_type": "markdown",
   "id": "ba032494-b840-49af-8c0c-2783ffdf5472",
   "metadata": {},
   "source": [
    "### Card Simulator\n",
    "\n",
    "#### Rules\n",
    "\n",
    "- For now, ace is always low\n",
    "- Rank hands:\n",
    "    - Straight flush\n",
    "    - 4 of a kind\n",
    "    - Flush\n",
    "    - Straight\n",
    "    - 3 of a kind\n",
    "    - 2 of a kind\n",
    "    - high card\n",
    "    - after that it's a tie\n",
    "    \n",
    "- Cards need to have an internal representaton, and a human-readable representation"
   ]
  },
  {
   "cell_type": "code",
   "execution_count": 1,
   "id": "1263906e-631f-4d6b-93b9-cafb92590898",
   "metadata": {
    "tags": []
   },
   "outputs": [],
   "source": [
    "from __future__ import annotations\n",
    "import random\n",
    "\n",
    "class Hand:\n",
    "    # Hand object should be\n",
    "    # a collection of cards\n",
    "    # and determine whether there are \n",
    "    # pairs, straights, etc.\n",
    "    \n",
    "    def __init__(self,\n",
    "                 cards: list[Card]\n",
    "                ):\n",
    "        self.__validate_hand(cards)\n",
    "        self.__cards = cards\n",
    "        self.count_faces_suits()\n",
    "        self.__cards_sorted = sorted(self.__cards)\n",
    "        \n",
    "        self.__create_rules()\n",
    "        \n",
    "        return \n",
    "    \n",
    "    def __validate_hand(self, \n",
    "                        cards: list[Card]):\n",
    "        for i in range(len(cards)):\n",
    "            for j in range(i + 1, len(cards)):\n",
    "                if cards[i] == cards[j]:\n",
    "                    raise ValueError(f'Hand contains two of: {cards[i]}')\n",
    "    \n",
    "    def __create_rules(self):\n",
    "        self.__RULES = {'straight_flush' : self.get_straight_flush,\n",
    "                             'four_kind' : self.get_quadruples,\n",
    "                                 'flush' : self.get_flush,\n",
    "                              'straight' : self.get_straight,\n",
    "                            'three_kind' : self.get_triples,\n",
    "                              'two_kind' : self.get_pairs,\n",
    "                             'high_card' : self.get_high_card\n",
    "                  }\n",
    "    \n",
    "    def get_best_hand(self) -> tuple[int]: # rank of the hand (low wins)\n",
    "        \n",
    "        for rank, (hand_name, func) in enumerate(self.__RULES.items()):\n",
    "            # return when we get a not None response\n",
    "            output = func()\n",
    "            if all(output):\n",
    "                return rank, hand_name, output\n",
    "        return None\n",
    "    \n",
    "    def __repr__(self):\n",
    "        return 'Hand with:\\n' + str(self.__cards)\n",
    "    \n",
    "    def count_faces_suits(self):\n",
    "        self.__face_counts = {}\n",
    "        self.__suit_counts = {}\n",
    "        \n",
    "        for card in self.__cards:\n",
    "            face = card.get_face_num()\n",
    "            suit = card.get_suit_name()\n",
    "            \n",
    "            if face in self.__face_counts:\n",
    "                self.__face_counts[face] += 1\n",
    "            else:\n",
    "                self.__face_counts[face] = 1\n",
    "            \n",
    "            if suit in self.__suit_counts:\n",
    "                self.__suit_counts[suit] += 1\n",
    "            else:\n",
    "                self.__suit_counts[suit] = 1\n",
    "        return\n",
    "    \n",
    "    def get_face_counts(self):\n",
    "        return self.__face_counts.copy()\n",
    "    \n",
    "    def get_suit_counts(self):\n",
    "        return self.__suit_counts.copy()\n",
    "    \n",
    "    def get_high_card(self):\n",
    "        return (self.__cards_sorted[-1].get_face_num(), )\n",
    "    \n",
    "    def get_flush(self\n",
    "                 ) -> tuple[int, # High card \n",
    "                            str  # Suit name\n",
    "                           ]:\n",
    "        for suit, count in self.__suit_counts.items():\n",
    "            if count >= 5:\n",
    "                high_card = 0\n",
    "                for card in self.__cards:\n",
    "                    if card.get_suit_name() == suit:\n",
    "                        high_card = max(high_card, card.get_face_num())\n",
    "                return high_card, suit\n",
    "        return None, None\n",
    "    \n",
    "    def get_straight(self) -> int:\n",
    "        # Compte the difference between the\n",
    "        # consecutive sorted cards\n",
    "        diffs = []\n",
    "        for i in range(len(self.__cards_sorted)-1):\n",
    "            diffs.append(self.__cards_sorted[i+1] - self.__cards_sorted[i])\n",
    "        \n",
    "        # We have a straight if the list of differences\n",
    "        # contains 4 ones, not separated by anything other\n",
    "        # than zeros\n",
    "        ones = 0\n",
    "        idx_high_card = -1\n",
    "        for idx,val in enumerate(diffs):\n",
    "            if val == 1:\n",
    "                ones += 1\n",
    "                if ones >= 4:\n",
    "                    idx_high_card = idx\n",
    "            elif (val == 0):\n",
    "                pass\n",
    "            else:\n",
    "                ones = 0\n",
    "                \n",
    "        if idx_high_card == -1:\n",
    "            return (None, )\n",
    "        else:\n",
    "            return (self.__cards_sorted[idx_high_card+1].get_face_num(), )\n",
    "    \n",
    "    def get_straight_flush(self) -> int:\n",
    "        _, suit = self.get_flush()\n",
    "        \n",
    "        face = (None,)\n",
    "        # if suit is not none, make a new hand containing cards from that suit\n",
    "        if suit is not None:\n",
    "            cards = []\n",
    "            for card in self.__cards:\n",
    "                if card.get_suit_name() == suit:\n",
    "                    cards.append(card)\n",
    "            hand = Hand(cards)\n",
    "            # Check if the subset contains a straight\n",
    "            face = hand.get_straight()\n",
    "        return face\n",
    "    \n",
    "    def get_mults(self, n:int) -> list[str]:\n",
    "        mults = []\n",
    "        for face, count in self.__face_counts.items():\n",
    "            if count == n:\n",
    "                mults.append(face)\n",
    "        if len(mults) == 0:\n",
    "            return (None, )\n",
    "        else:\n",
    "            return (mults, )\n",
    "    \n",
    "    def get_pairs(self) -> list[str]:\n",
    "        return self.get_mults(2)\n",
    "    \n",
    "    def get_triples(self) -> list[str]:\n",
    "        return self.get_mults(3)\n",
    "    \n",
    "    def get_quadruples(self) -> list[str]:\n",
    "        return self.get_mults(4)\n",
    "    \n",
    "    def __gt__(self, other):\n",
    "        rank1, _, output1 = self.get_best_hand()\n",
    "        rank2, _, output2 = other.get_best_hand()\n",
    "\n",
    "        if rank1 == rank2:\n",
    "            out1 = output1[0]\n",
    "            out2 = output2[0]\n",
    "            if type(out1) == list:\n",
    "                out1 = max(out1)\n",
    "                out2 = max(out2)\n",
    "            return out1 > out2\n",
    "            \n",
    "        else:\n",
    "            return rank1 < rank2\n",
    "    \n",
    "    def __eq__(self, other):\n",
    "        rank1, _, output1 = self.get_best_hand()\n",
    "        rank2, _, output2 = other.get_best_hand()\n",
    "        \n",
    "        if rank1 == rank2:\n",
    "            out1 = output1[0]\n",
    "            out2 = output2[0]\n",
    "            if type(out1) == list:\n",
    "                out1 = max(out1)\n",
    "                out2 = max(out2)\n",
    "            return out1 == out2\n",
    "            \n",
    "        else:\n",
    "            return False\n",
    "\n",
    "class Deck:\n",
    "    def __init__(self):\n",
    "        self.fill_deck()\n",
    "        self.shuffle()\n",
    "        return\n",
    "    \n",
    "    def fill_deck(self):\n",
    "        self.__cards = [Card(n) for n in range(52)]\n",
    "        return\n",
    "    \n",
    "    def shuffle(self,\n",
    "                restore_deck: bool = True):\n",
    "        if restore_deck:\n",
    "            self.fill_deck()\n",
    "        # A very unrealistic shuffle\n",
    "        random.shuffle(self.__cards)\n",
    "        return\n",
    "    \n",
    "    def deal(self, \n",
    "             num_cards: int\n",
    "            ) -> Hand:\n",
    "        \n",
    "        cards = []\n",
    "        \n",
    "        if num_cards > len(self.__cards):\n",
    "            raise ValueError(\"Not enough cards left in the deck.\")\n",
    "        \n",
    "        while len(cards) < num_cards:\n",
    "            cards.append(self.__cards.pop())\n",
    "        \n",
    "        return Hand(cards)\n",
    "\n",
    "class Card:\n",
    "    \n",
    "    __SUITS = ['Clubs', \n",
    "               'Diamonds',\n",
    "               'Hearts',\n",
    "               'Spades']\n",
    "    \n",
    "    __FACES = {n+1:n+1 for n in range(13)}\n",
    "    __FACES[1]  = 'Ace'\n",
    "    __FACES[11] = 'Jack'\n",
    "    __FACES[12] = 'Queen'\n",
    "    __FACES[13] = 'King'\n",
    "    \n",
    "    __FACE_NUMS = {}\n",
    "    __FACE_NUMS['Ace']   = 1\n",
    "    __FACE_NUMS['Jack']  = 11\n",
    "    __FACE_NUMS['Queen'] = 12\n",
    "    __FACE_NUMS['King']  = 13\n",
    "    \n",
    "    def __init__(self, \n",
    "                 value: int = None,\n",
    "                 suit:  str = None,\n",
    "                 face:  str = None\n",
    "                ):\n",
    "        if suit is not None:\n",
    "            suit = suit.capitalize()\n",
    "        self.__validate_input(value, suit, face)\n",
    "        \n",
    "        if face is not None:\n",
    "            if face in self.__FACE_NUMS:\n",
    "                value = self.__FACE_NUMS[face]\n",
    "            else:\n",
    "                value = int(face)\n",
    "        if suit is not None:\n",
    "            value += 13*self.__SUITS.index(suit) - 1\n",
    "        \n",
    "        self.__value = value\n",
    "        self.__face = value % 13 + 1\n",
    "        self.__suit = value//13\n",
    "        return\n",
    "    \n",
    "    def __validate_input(self, \n",
    "                         value: int, \n",
    "                         suit:  str, \n",
    "                         face:  str\n",
    "                        ) -> None:\n",
    "        \n",
    "        MSG_BAD_INPUT_COMBO = 'Either value, OR suit and face, should be provided.'\n",
    "        \n",
    "        if (value is None) and (suit is None) and (face is None):\n",
    "            raise ValueError(MSG_BAD_INPUT_COMBO)\n",
    "        \n",
    "        if value is not None:\n",
    "            if (suit is not None) or (face is not None):\n",
    "                raise ValueError(MSG_BAD_INPUT_COMBO)\n",
    "        \n",
    "        if suit is not None:\n",
    "            if suit not in self.__SUITS:\n",
    "                raise ValueError(suit + ' is not a valid suit name.')\n",
    "            if face is None:\n",
    "                raise ValueError('Suit was specified without a face value.')\n",
    "        if face is not None:\n",
    "            if suit is None:\n",
    "                raise ValueError('Face was specified without a suit.')\n",
    "        \n",
    "        if (suit is not None) and (face is not None):\n",
    "            if value is not None:\n",
    "                raise ValueError(MSG_BAD_INPUT_COMBO)\n",
    "        \n",
    "        return\n",
    "    \n",
    "    def get_face_num(self):\n",
    "        return self.__face\n",
    "    \n",
    "    def get_face_name(self):\n",
    "        return self.__FACES[self.__face]\n",
    "    \n",
    "    def get_suit_num(self):\n",
    "        return self.__suit\n",
    "    \n",
    "    def get_suit_name(self):\n",
    "        return self.__SUITS[self.__suit]\n",
    "    \n",
    "    def __repr__(self):\n",
    "        return str(self.__FACES[self.__face]) + \\\n",
    "               ' of ' + str(self.__SUITS[self.__suit])\n",
    "    \n",
    "    def __gt__(self, other):\n",
    "        return self.__face > other.__face\n",
    "    \n",
    "    def __sub__(self, other):\n",
    "        return self.__face - other.__face\n",
    "    \n",
    "    def __eq__(self, other):\n",
    "        return (self.__face == other.__face) and (self.__suit == other.__suit)"
   ]
  },
  {
   "cell_type": "code",
   "execution_count": 2,
   "id": "720d395b-9084-4c6c-8872-ea709b932698",
   "metadata": {
    "tags": []
   },
   "outputs": [],
   "source": [
    "# Hands to test\n",
    "straight1 = Hand(\n",
    "            [Card(face= 'Ace', suit = 'diamonds'),\n",
    "             Card(face= '7', suit = 'diamonds'),\n",
    "             Card(face= '3', suit = 'diamonds'),\n",
    "             Card(face= '4', suit = 'diamonds'),\n",
    "             Card(face= '5', suit = 'diamonds'),\n",
    "             Card(face= '6', suit = 'diamonds'),\n",
    "             Card(face= '2', suit = 'diamonds'),\n",
    "            ])\n",
    "\n",
    "pairs1 = Hand(\n",
    "            [Card(face= 'Ace', suit = 'diamonds'),\n",
    "             Card(face= 'Ace', suit = 'clubs'),\n",
    "             Card(face= '3', suit = 'diamonds'),\n",
    "             Card(face= '4', suit = 'diamonds'),\n",
    "             Card(face= '5', suit = 'diamonds'),\n",
    "             Card(face= '6', suit = 'diamonds'),\n",
    "             Card(face= '2', suit = 'diamonds'),\n",
    "            ])\n",
    "\n",
    "pairs2 = Hand(\n",
    "            [Card(face= 'Ace', suit = 'diamonds'),\n",
    "             Card(face= 'Ace', suit = 'clubs'),\n",
    "             Card(face= '3', suit = 'diamonds'),\n",
    "             Card(face= '3', suit = 'clubs'),\n",
    "             Card(face= '5', suit = 'diamonds'),\n",
    "             Card(face= '5', suit = 'clubs'),\n",
    "             Card(face= '2', suit = 'diamonds'),\n",
    "            ])\n",
    "\n",
    "three1 = Hand(\n",
    "            [Card(face= 'Ace', suit = 'diamonds'),\n",
    "             Card(face= 'Ace', suit = 'clubs'),\n",
    "             Card(face= 'Ace', suit = 'spades'),\n",
    "             Card(face= '3', suit = 'clubs'),\n",
    "             Card(face= '5', suit = 'diamonds'),\n",
    "             Card(face= '5', suit = 'clubs'),\n",
    "             Card(face= '5', suit = 'spades'),\n",
    "            ])\n",
    "\n",
    "flush1 = Hand(\n",
    "            [Card(face= 'Ace', suit = 'diamonds'),\n",
    "             Card(face= '2', suit = 'diamonds'),\n",
    "             Card(face= 'Queen', suit = 'diamonds'),\n",
    "             Card(face= '3', suit = 'diamonds'),\n",
    "             Card(face= '5', suit = 'diamonds'),\n",
    "             Card(face= '5', suit = 'clubs'),\n",
    "             Card(face= '5', suit = 'spades'),\n",
    "            ])\n",
    "\n",
    "\n",
    "not_straight_flush = Hand(\n",
    "                    [Card(face= 'Ace', suit = 'diamonds'),\n",
    "                     Card(face= '2', suit = 'diamonds'),\n",
    "                     Card(face= '3', suit = 'spades'),\n",
    "                     Card(face= '4', suit = 'spades'),\n",
    "                     Card(face= '5', suit = 'spades'),\n",
    "                     Card(face= '10', suit = 'spades'),\n",
    "                     Card(face= 'Jack', suit = 'spades'),\n",
    "                    ])\n",
    "\n",
    "straight_flush1 = Hand(\n",
    "                    [Card(face= 'Ace', suit = 'diamonds'),\n",
    "                     Card(face= '2', suit = 'spades'),\n",
    "                     Card(face= '3', suit = 'spades'),\n",
    "                     Card(face= '4', suit = 'spades'),\n",
    "                     Card(face= '5', suit = 'spades'),\n",
    "                     Card(face= '6', suit = 'spades'),\n",
    "                     Card(face= '7', suit = 'clubs'),\n",
    "                    ])\n",
    "\n",
    "straight_flush2 = Hand(\n",
    "                    [Card(face= 'Ace', suit = 'spades'),\n",
    "                     Card(face= '2', suit = 'spades'),\n",
    "                     Card(face= '3', suit = 'spades'),\n",
    "                     Card(face= '4', suit = 'spades'),\n",
    "                     Card(face= '5', suit = 'spades'),\n",
    "                     Card(face= '10', suit = 'spades'),\n",
    "                     Card(face= 'Jack', suit = 'clubs'),\n",
    "                    ])"
   ]
  },
  {
   "cell_type": "code",
   "execution_count": 3,
   "id": "ac664183-6473-4fa7-86d5-a7329ca7c673",
   "metadata": {
    "tags": []
   },
   "outputs": [
    {
     "data": {
      "text/plain": [
       "7"
      ]
     },
     "execution_count": 3,
     "metadata": {},
     "output_type": "execute_result"
    }
   ],
   "source": [
    "straight1.get_straight()"
   ]
  },
  {
   "cell_type": "code",
   "execution_count": 4,
   "id": "78e99658-5fb2-40bc-bb6d-78886c1acaab",
   "metadata": {
    "tags": []
   },
   "outputs": [
    {
     "data": {
      "text/plain": [
       "[1]"
      ]
     },
     "execution_count": 4,
     "metadata": {},
     "output_type": "execute_result"
    }
   ],
   "source": [
    "pairs1.get_pairs()"
   ]
  },
  {
   "cell_type": "code",
   "execution_count": 5,
   "id": "76e5426c-9cde-4691-81c8-d6541aaadd7f",
   "metadata": {
    "tags": []
   },
   "outputs": [
    {
     "data": {
      "text/plain": [
       "[1, 3, 5]"
      ]
     },
     "execution_count": 5,
     "metadata": {},
     "output_type": "execute_result"
    }
   ],
   "source": [
    "pairs2.get_pairs()"
   ]
  },
  {
   "cell_type": "code",
   "execution_count": 6,
   "id": "29814f9a-88ad-4dbb-80a8-b41f4a02a935",
   "metadata": {
    "tags": []
   },
   "outputs": [
    {
     "data": {
      "text/plain": [
       "5"
      ]
     },
     "execution_count": 6,
     "metadata": {},
     "output_type": "execute_result"
    }
   ],
   "source": [
    "pairs2.get_high_card()"
   ]
  },
  {
   "cell_type": "code",
   "execution_count": 7,
   "id": "2f596ff4-dcf8-484e-975e-f680e484a11f",
   "metadata": {
    "tags": []
   },
   "outputs": [
    {
     "data": {
      "text/plain": [
       "[1, 5]"
      ]
     },
     "execution_count": 7,
     "metadata": {},
     "output_type": "execute_result"
    }
   ],
   "source": [
    "three1.get_triples()"
   ]
  },
  {
   "cell_type": "code",
   "execution_count": 8,
   "id": "8be51956-65fb-437d-9aee-c49231204f8e",
   "metadata": {
    "tags": []
   },
   "outputs": [
    {
     "data": {
      "text/plain": [
       "[]"
      ]
     },
     "execution_count": 8,
     "metadata": {},
     "output_type": "execute_result"
    }
   ],
   "source": [
    "three1.get_pairs()"
   ]
  },
  {
   "cell_type": "code",
   "execution_count": 9,
   "id": "43f83774-7ad3-4780-b758-81099f12bf07",
   "metadata": {
    "tags": []
   },
   "outputs": [
    {
     "data": {
      "text/plain": [
       "(12, 'Diamonds')"
      ]
     },
     "execution_count": 9,
     "metadata": {},
     "output_type": "execute_result"
    }
   ],
   "source": [
    "flush1.get_flush()"
   ]
  },
  {
   "cell_type": "code",
   "execution_count": 10,
   "id": "f6b3ce4e-32a3-43a4-86f3-16e8ff223be7",
   "metadata": {
    "tags": []
   },
   "outputs": [
    {
     "data": {
      "text/plain": [
       "(11, 'Spades')"
      ]
     },
     "execution_count": 10,
     "metadata": {},
     "output_type": "execute_result"
    }
   ],
   "source": [
    "not_straight_flush.get_flush()"
   ]
  },
  {
   "cell_type": "code",
   "execution_count": 11,
   "id": "b5111acb-e020-4072-86c1-839db051d961",
   "metadata": {
    "tags": []
   },
   "outputs": [
    {
     "data": {
      "text/plain": [
       "5"
      ]
     },
     "execution_count": 11,
     "metadata": {},
     "output_type": "execute_result"
    }
   ],
   "source": [
    "not_straight_flush.get_straight()"
   ]
  },
  {
   "cell_type": "code",
   "execution_count": null,
   "id": "e8b0f551-cdb7-49ee-b502-094ebca9547f",
   "metadata": {},
   "outputs": [],
   "source": []
  },
  {
   "cell_type": "code",
   "execution_count": null,
   "id": "e76cc2d3-9530-40f7-9123-856424491e56",
   "metadata": {},
   "outputs": [],
   "source": []
  },
  {
   "cell_type": "code",
   "execution_count": null,
   "id": "3bdad023-6393-46de-9a23-d0f0ab6bc762",
   "metadata": {},
   "outputs": [],
   "source": []
  },
  {
   "cell_type": "code",
   "execution_count": null,
   "id": "91bda364-26ae-4ab9-a304-fee52f5988ab",
   "metadata": {},
   "outputs": [],
   "source": [
    "[1 1 1 1 1 1]"
   ]
  },
  {
   "cell_type": "code",
   "execution_count": null,
   "id": "61dc2c5a-c693-4eb2-9244-59a9d70b5f7e",
   "metadata": {},
   "outputs": [],
   "source": [
    "[1 0 1 1 1 1]"
   ]
  },
  {
   "cell_type": "code",
   "execution_count": null,
   "id": "b23fdd2a-2c81-4e4d-9a2b-36c5d85c5b77",
   "metadata": {},
   "outputs": [],
   "source": []
  },
  {
   "cell_type": "code",
   "execution_count": null,
   "id": "6cab1735-3aff-409a-b6e0-7461d96e91c6",
   "metadata": {},
   "outputs": [],
   "source": []
  },
  {
   "cell_type": "code",
   "execution_count": null,
   "id": "d2e0b249-78b7-4907-8cb8-7e432b85d695",
   "metadata": {},
   "outputs": [],
   "source": []
  },
  {
   "cell_type": "markdown",
   "id": "faaa2f1b-63e1-48e3-8a0f-f16f72e55fc7",
   "metadata": {},
   "source": [
    "---\n",
    "\n",
    "Random code scraps below"
   ]
  },
  {
   "cell_type": "code",
   "execution_count": 2,
   "id": "37ca30b4-df4d-4e0e-97e8-73ff5aa608dc",
   "metadata": {},
   "outputs": [],
   "source": [
    "# How many hands need to be dealt, on average\n",
    "# to get 4 of a kind?\n",
    "\n",
    "if False:\n",
    "    trials = 50\n",
    "    num_hands = []\n",
    "\n",
    "    for _ in range(trials):\n",
    "        d = Deck()\n",
    "        my_hand = d.deal(5)\n",
    "        n = 1\n",
    "        while len(my_hand.get_quadruples()) == 0:\n",
    "            d.shuffle()\n",
    "            my_hand = d.deal(5)\n",
    "            n += 1\n",
    "        num_hands.append(n)\n",
    "\n",
    "    print(sum(num_hands)/trials)"
   ]
  },
  {
   "cell_type": "code",
   "execution_count": 3,
   "id": "f9339c51-4651-421b-8bca-2c0d407c08ab",
   "metadata": {
    "tags": []
   },
   "outputs": [],
   "source": [
    "from IPython.display import clear_output\n",
    "\n",
    "if False:\n",
    "    d = Deck()\n",
    "    my_hand = d.deal(7)\n",
    "    n = 1\n",
    "\n",
    "    face, suit = my_hand.get_flush()\n",
    "\n",
    "    while face is None:\n",
    "        clear_output()\n",
    "        print(n)\n",
    "        d.shuffle()\n",
    "        my_hand = d.deal(7)\n",
    "        face, suit = my_hand.get_flush()\n",
    "        n += 1\n",
    "\n",
    "    print(my_hand)\n",
    "    print(face, suit)"
   ]
  },
  {
   "cell_type": "code",
   "execution_count": null,
   "id": "d3d07d98-8924-479f-9e2f-63645cb2811e",
   "metadata": {},
   "outputs": [],
   "source": [
    "# 1 2 3 4 5 9 10"
   ]
  },
  {
   "cell_type": "code",
   "execution_count": null,
   "id": "b4e00719-922d-4f3b-b89c-1fa2eb3bfd3a",
   "metadata": {},
   "outputs": [],
   "source": [
    "#  1 1 1 1 4 1 "
   ]
  },
  {
   "cell_type": "code",
   "execution_count": 43,
   "id": "0d03aff7-9350-44c7-9859-18645e57076c",
   "metadata": {
    "tags": []
   },
   "outputs": [],
   "source": [
    "d = Deck()\n",
    "my_hand = d.deal(5)"
   ]
  },
  {
   "cell_type": "code",
   "execution_count": 44,
   "id": "298617a9-6c97-4da4-90e1-9adfff6f64ed",
   "metadata": {
    "tags": []
   },
   "outputs": [
    {
     "data": {
      "text/plain": [
       "[3, 1, 1, 2]"
      ]
     },
     "execution_count": 44,
     "metadata": {},
     "output_type": "execute_result"
    }
   ],
   "source": [
    "my_hand.get_straight()"
   ]
  },
  {
   "cell_type": "code",
   "execution_count": 45,
   "id": "c0d2c6df-a5aa-43b6-90d6-7e8f7e0c6faa",
   "metadata": {
    "tags": []
   },
   "outputs": [
    {
     "data": {
      "text/plain": [
       "[2 of Clubs, 5 of Hearts, 6 of Hearts, 7 of Hearts, 9 of Spades]"
      ]
     },
     "execution_count": 45,
     "metadata": {},
     "output_type": "execute_result"
    }
   ],
   "source": [
    "my_hand._Hand__cards_sorted"
   ]
  },
  {
   "cell_type": "code",
   "execution_count": 11,
   "id": "5856a0d7-513b-45c0-84b5-10b4dd568b48",
   "metadata": {
    "tags": []
   },
   "outputs": [],
   "source": [
    "x = [2,1,1,1,1,5] # yes straight\n",
    "y = [1,1,3,1,1,2] # no straight\n",
    "z = [1,0,1,1,1,2] # yes straight\n",
    "u = [1,1,1,1,1,1] # yes straight, index 5"
   ]
  },
  {
   "cell_type": "code",
   "execution_count": 12,
   "id": "80da38fd-014d-4b42-b901-fd0334e373ca",
   "metadata": {
    "tags": []
   },
   "outputs": [],
   "source": [
    "def check(values):\n",
    "    # Four occurences of a 1, after dropping zeros\n",
    "    ones = 0\n",
    "    cur_idx = -1\n",
    "    for idx,val in enumerate(values):\n",
    "        if val == 1:\n",
    "            ones += 1\n",
    "            if ones >= 4:\n",
    "                cur_idx = idx\n",
    "        elif (val == 0):\n",
    "            pass\n",
    "        else:\n",
    "            ones = 0\n",
    "    return cur_idx"
   ]
  },
  {
   "cell_type": "code",
   "execution_count": 13,
   "id": "f35e633e-ad83-45e8-9a48-1b6df7357bee",
   "metadata": {
    "tags": []
   },
   "outputs": [
    {
     "data": {
      "text/plain": [
       "4"
      ]
     },
     "execution_count": 13,
     "metadata": {},
     "output_type": "execute_result"
    }
   ],
   "source": [
    "check(x)"
   ]
  },
  {
   "cell_type": "code",
   "execution_count": 14,
   "id": "70c7510b-aa0f-496c-b9dd-2fdb48abe770",
   "metadata": {
    "tags": []
   },
   "outputs": [
    {
     "data": {
      "text/plain": [
       "-1"
      ]
     },
     "execution_count": 14,
     "metadata": {},
     "output_type": "execute_result"
    }
   ],
   "source": [
    "check(y)"
   ]
  },
  {
   "cell_type": "code",
   "execution_count": 15,
   "id": "fe0b2a1f-c016-4741-a035-58dbe0cf5cd5",
   "metadata": {
    "tags": []
   },
   "outputs": [
    {
     "data": {
      "text/plain": [
       "4"
      ]
     },
     "execution_count": 15,
     "metadata": {},
     "output_type": "execute_result"
    }
   ],
   "source": [
    "check(z)"
   ]
  },
  {
   "cell_type": "code",
   "execution_count": 16,
   "id": "a0cc709f-6e73-4cb9-a0f3-5ff47a248aef",
   "metadata": {},
   "outputs": [
    {
     "data": {
      "text/plain": [
       "5"
      ]
     },
     "execution_count": 16,
     "metadata": {},
     "output_type": "execute_result"
    }
   ],
   "source": [
    "check(u)"
   ]
  },
  {
   "cell_type": "code",
   "execution_count": null,
   "id": "35356fa1-7dc6-4dc1-809f-c3c9343ba9da",
   "metadata": {},
   "outputs": [],
   "source": []
  }
 ],
 "metadata": {
  "kernelspec": {
   "display_name": "Python 3 (ipykernel)",
   "language": "python",
   "name": "python3"
  },
  "language_info": {
   "codemirror_mode": {
    "name": "ipython",
    "version": 3
   },
   "file_extension": ".py",
   "mimetype": "text/x-python",
   "name": "python",
   "nbconvert_exporter": "python",
   "pygments_lexer": "ipython3",
   "version": "3.10.9"
  }
 },
 "nbformat": 4,
 "nbformat_minor": 5
}
